{
 "cells": [
  {
   "attachments": {},
   "cell_type": "markdown",
   "metadata": {},
   "source": [
    "# NLP Tweet Analyzer Kaggle Submission"
   ]
  },
  {
   "cell_type": "code",
   "execution_count": 2,
   "metadata": {},
   "outputs": [
    {
     "name": "stderr",
     "output_type": "stream",
     "text": [
      "/Users/miguelcachosoblechero/opt/anaconda3/envs/Kaggle/lib/python3.8/site-packages/xgboost/compat.py:36: FutureWarning: pandas.Int64Index is deprecated and will be removed from pandas in a future version. Use pandas.Index with the appropriate dtype instead.\n",
      "  from pandas import MultiIndex, Int64Index\n",
      "[nltk_data] Downloading package stopwords to\n",
      "[nltk_data]     /Users/miguelcachosoblechero/nltk_data...\n",
      "[nltk_data]   Package stopwords is already up-to-date!\n"
     ]
    }
   ],
   "source": [
    "import os\n",
    "import sys\n",
    "import pandas as pd\n",
    "import numpy as np\n",
    "from tqdm import tqdm\n",
    "import gensim\n",
    "import gensim.downloader as api\n",
    "from gensim.models import KeyedVectors\n",
    "\n",
    "# NLP Preprocessing\n",
    "import nltk\n",
    "from nltk.tokenize import TweetTokenizer\n",
    "from nltk.corpus import stopwords\n",
    "from nltk.stem import PorterStemmer\n",
    "\n",
    "# NLP Viz\n",
    "import matplotlib.pyplot as plt\n",
    "import seaborn as sns\n",
    "from wordcloud import WordCloud\n",
    "\n",
    "# Feature Extraction\n",
    "from sklearn.feature_extraction.text import CountVectorizer, TfidfVectorizer\n",
    "\n",
    "# Data Modelling\n",
    "from sklearn.model_selection import StratifiedKFold, train_test_split\n",
    "from sklearn.metrics import confusion_matrix, accuracy_score, roc_auc_score, recall_score\n",
    "from sklearn.decomposition import PCA, TruncatedSVD\n",
    "from sklearn.manifold import TSNE\n",
    "from sklearn.dummy import DummyClassifier\n",
    "from sklearn.ensemble import RandomForestClassifier\n",
    "from sklearn.naive_bayes import MultinomialNB\n",
    "from sklearn.svm import SVC\n",
    "import xgboost\n",
    "from xgboost import XGBClassifier\n",
    "xgboost.config_context(verbosity=0) # Silect XGBoost\n",
    "\n",
    "# Monitoring progress\n",
    "from tqdm.notebook import tqdm_notebook\n",
    "tqdm_notebook.pandas()\n",
    "\n",
    "nltk.download('stopwords')\n",
    "\n",
    "config = {\n",
    "    'test_size': 0.2,\n",
    "    'CV_splits': 5,\n",
    "    'seed': 14,\n",
    "    'n_cores': 16,\n",
    "    'max_features': 10000,\n",
    "    'refresh_embedding': False\n",
    "}"
   ]
  },
  {
   "cell_type": "code",
   "execution_count": 3,
   "metadata": {},
   "outputs": [],
   "source": [
    "# Generate Embeddings\n",
    "def average_embedding(tweet, word_embeddings, missing_random=False, dimension=300):\n",
    "    \n",
    "    # Create target embedding\n",
    "    final_emb = np.zeros(dimension)\n",
    "    num_words = len(tweet)\n",
    "\n",
    "    # For each word in sentence\n",
    "    for word in tweet:\n",
    "\n",
    "        # Look for key\n",
    "        if word in word_embeddings:\n",
    "            final_emb += word_embeddings[word]\n",
    "\n",
    "        # If missing...\n",
    "        else:\n",
    "            if missing_random:\n",
    "                final_emb += np.random.rand(dimension)\n",
    "            else:\n",
    "                final_emb += np.zeros(dimension)\n",
    "                \n",
    "    # Average embeddings\n",
    "    if num_words == 0:\n",
    "        return np.zeros(dimension)\n",
    "    else:\n",
    "        return final_emb/num_words"
   ]
  },
  {
   "cell_type": "code",
   "execution_count": 4,
   "metadata": {},
   "outputs": [],
   "source": [
    "# 1- Preprocessing and Feature Engineering\n",
    "# Load dataset\n",
    "input_path = \"../input\"\n",
    "raw_tweets_train = pd.read_csv(os.path.join(input_path, \"train.csv\")).drop(['id'], axis=1)\n",
    "raw_tweets_test = pd.read_csv(os.path.join(input_path, \"test.csv\"))\n",
    "\n",
    "# Extract data and labels\n",
    "X_train = raw_tweets_train.drop(['target'], axis=1)\n",
    "y_train = raw_tweets_train.target.values\n",
    "X_test = raw_tweets_test\n",
    "\n",
    "# Use Twitter Tokenizer to tokenize tweets\n",
    "tokenizer = TweetTokenizer()\n",
    "X_train['twitterTokens'] = X_train.apply(lambda x: tokenizer.tokenize(x.text.lower()), axis=1)\n",
    "X_test['twitterTokens'] = X_test.apply(lambda x: tokenizer.tokenize(x.text.lower()), axis=1)\n",
    "\n",
    "# Remove stop words\n",
    "english_stopwords = set(stopwords.words('english'))\n",
    "X_train['twitterTokens_noStop'] = X_train.twitterTokens.apply(lambda x: [i for i in x if i not in english_stopwords])\n",
    "X_test['twitterTokens_noStop'] = X_test.twitterTokens.apply(lambda x: [i for i in x if i not in english_stopwords])\n",
    "\n",
    "# Tokenize + Stop Words + BoW\n",
    "CountVec = CountVectorizer(stop_words='english', max_features=config['max_features'])\n",
    "X_train_bow = CountVec.fit_transform(X_train.text)\n",
    "X_test_bow = CountVec.transform(X_test.text)\n",
    "\n",
    "# TfidfVectorizer can be used to perform this action in normal text\n",
    "CountVecTFIDF = TfidfVectorizer(stop_words='english', max_features=config['max_features'])\n",
    "X_train_tfidf = CountVecTFIDF.fit_transform(X_train.text)\n",
    "X_test_tfidf = CountVecTFIDF.transform(X_test.text)\n",
    "\n",
    "# Download or load from local\n",
    "if config['refresh_embedding']:\n",
    "    # Download Google's pre-trained Word2Vec model\n",
    "    word2vec = api.load('word2vec-google-news-300')\n",
    "    # Save the model for future reuse\n",
    "    word2vec.save_word2vec_format('../Word2Vec/word2vec_300.kv')\n",
    "else:\n",
    "    word2vec = KeyedVectors.load_word2vec_format('../Word2Vec/word2vec_300.kv')\n",
    "\n",
    "# Create embeddings by averaging the sentence\n",
    "X_train_embeddings = pd.DataFrame(X_train.twitterTokens_noStop.apply(average_embedding, word_embeddings=word2vec, missing_random=False).tolist())\n",
    "X_test_embeddings = pd.DataFrame(X_test.twitterTokens_noStop.apply(average_embedding, word_embeddings=word2vec, missing_random=False).tolist())"
   ]
  },
  {
   "cell_type": "code",
   "execution_count": 5,
   "metadata": {},
   "outputs": [
    {
     "name": "stderr",
     "output_type": "stream",
     "text": [
      "/Users/miguelcachosoblechero/opt/anaconda3/envs/Kaggle/lib/python3.8/site-packages/xgboost/sklearn.py:1224: UserWarning: The use of label encoder in XGBClassifier is deprecated and will be removed in a future release. To remove this warning, do the following: 1) Pass option use_label_encoder=False when constructing XGBClassifier object; and 2) Encode your labels (y) as integers starting with 0, i.e. 0, 1, 2, ..., [num_class - 1].\n",
      "  warnings.warn(label_encoder_deprecation_msg, UserWarning)\n",
      "/Users/miguelcachosoblechero/opt/anaconda3/envs/Kaggle/lib/python3.8/site-packages/xgboost/data.py:250: FutureWarning: pandas.Int64Index is deprecated and will be removed from pandas in a future version. Use pandas.Index with the appropriate dtype instead.\n",
      "  elif isinstance(data.columns, (pd.Int64Index, pd.RangeIndex)):\n"
     ]
    },
    {
     "name": "stdout",
     "output_type": "stream",
     "text": [
      "[22:43:26] WARNING: /var/folders/sy/f16zz6x50xz3113nwtb9bvq00000gp/T/abs_44tbtwf8c1/croots/recipe/xgboost-split_1659548960882/work/src/learner.cc:1115: Starting in XGBoost 1.3.0, the default evaluation metric used with the objective 'binary:logistic' was changed from 'error' to 'logloss'. Explicitly set eval_metric if you'd like to restore the old behavior.\n"
     ]
    }
   ],
   "source": [
    "# 2- Data modelling\n",
    "# Select your model\n",
    "target_model = XGBClassifier(n_estimators=20, max_depth=50, random_state=config['seed'], n_jobs = config['n_cores'])\n",
    "# target_model = MultinomialNB()\n",
    "\n",
    "# Train your model\n",
    "target_model.fit(X_train_embeddings, y_train)\n",
    "\n",
    "# Generate predictions\n",
    "results = target_model.predict(X_test_embeddings)\n",
    "\n",
    "# Store results\n",
    "pd.DataFrame({\"id\": raw_tweets_test.id,\n",
    "              \"target\": results}).set_index(\"id\").to_csv(\"../submission/nlp_submission.csv\")"
   ]
  }
 ],
 "metadata": {
  "kernelspec": {
   "display_name": "Kaggle",
   "language": "python",
   "name": "python3"
  },
  "language_info": {
   "codemirror_mode": {
    "name": "ipython",
    "version": 3
   },
   "file_extension": ".py",
   "mimetype": "text/x-python",
   "name": "python",
   "nbconvert_exporter": "python",
   "pygments_lexer": "ipython3",
   "version": "3.8.12"
  },
  "orig_nbformat": 4
 },
 "nbformat": 4,
 "nbformat_minor": 2
}
