{
 "cells": [
  {
   "attachments": {},
   "cell_type": "markdown",
   "metadata": {},
   "source": [
    "# NLP Tweet Analyzer Kaggle Submission"
   ]
  },
  {
   "cell_type": "code",
   "execution_count": 6,
   "metadata": {},
   "outputs": [
    {
     "name": "stderr",
     "output_type": "stream",
     "text": [
      "[nltk_data] Downloading package stopwords to\n",
      "[nltk_data]     /Users/miguelcachosoblechero/nltk_data...\n",
      "[nltk_data]   Package stopwords is already up-to-date!\n"
     ]
    }
   ],
   "source": [
    "import os\n",
    "import sys\n",
    "import pandas as pd\n",
    "import numpy as np\n",
    "from tqdm import tqdm\n",
    "import gensim\n",
    "import gensim.downloader as api\n",
    "from gensim.models import KeyedVectors\n",
    "\n",
    "# NLP Preprocessing\n",
    "import nltk\n",
    "from nltk.tokenize import TweetTokenizer\n",
    "from nltk.corpus import stopwords\n",
    "from nltk.stem import PorterStemmer\n",
    "\n",
    "# NLP Viz\n",
    "import matplotlib.pyplot as plt\n",
    "import seaborn as sns\n",
    "from wordcloud import WordCloud\n",
    "\n",
    "# Feature Extraction\n",
    "from sklearn.feature_extraction.text import CountVectorizer, TfidfVectorizer\n",
    "\n",
    "# Data Modelling\n",
    "from sklearn.model_selection import StratifiedKFold, train_test_split\n",
    "from sklearn.metrics import confusion_matrix, accuracy_score, roc_auc_score, recall_score\n",
    "from sklearn.decomposition import PCA, TruncatedSVD\n",
    "from sklearn.manifold import TSNE\n",
    "from sklearn.dummy import DummyClassifier\n",
    "from sklearn.ensemble import RandomForestClassifier\n",
    "from sklearn.naive_bayes import MultinomialNB\n",
    "from sklearn.svm import SVC\n",
    "import xgboost\n",
    "from xgboost import XGBClassifier\n",
    "xgboost.config_context(verbosity=0) # Silect XGBoost\n",
    "\n",
    "# Monitoring progress\n",
    "from tqdm.notebook import tqdm_notebook\n",
    "tqdm_notebook.pandas()\n",
    "\n",
    "nltk.download('stopwords')\n",
    "\n",
    "config = {\n",
    "    'test_size': 0.2,\n",
    "    'CV_splits': 5,\n",
    "    'seed': 14,\n",
    "    'n_cores': 16,\n",
    "    'max_features': 10000,\n",
    "    'refresh_embedding': False\n",
    "}"
   ]
  },
  {
   "cell_type": "code",
   "execution_count": 7,
   "metadata": {},
   "outputs": [],
   "source": [
    "# Generate Embeddings\n",
    "def average_embedding(tweet, word_embeddings, missing_random=False, dimension=300):\n",
    "    \n",
    "    # Create target embedding\n",
    "    final_emb = np.zeros(dimension)\n",
    "    num_words = len(tweet)\n",
    "\n",
    "    # For each word in sentence\n",
    "    for word in tweet:\n",
    "\n",
    "        # Look for key\n",
    "        if word in word_embeddings:\n",
    "            final_emb += word_embeddings[word]\n",
    "\n",
    "        # If missing...\n",
    "        else:\n",
    "            if missing_random:\n",
    "                final_emb += np.random.rand(dimension)\n",
    "            else:\n",
    "                final_emb += np.zeros(dimension)\n",
    "                \n",
    "    # Average embeddings\n",
    "    if num_words == 0:\n",
    "        return np.zeros(dimension)\n",
    "    else:\n",
    "        return final_emb/num_words"
   ]
  },
  {
   "cell_type": "code",
   "execution_count": 8,
   "metadata": {},
   "outputs": [],
   "source": [
    "# 1- Preprocessing and Feature Engineering\n",
    "# Load dataset\n",
    "input_path = \"../input\"\n",
    "raw_tweets_train = pd.read_csv(os.path.join(input_path, \"train.csv\")).drop(['id'], axis=1)\n",
    "raw_tweets_test = pd.read_csv(os.path.join(input_path, \"test.csv\"))\n",
    "\n",
    "# Extract data and labels\n",
    "X_train = raw_tweets_train.drop(['target'], axis=1)\n",
    "y_train = raw_tweets_train.target.values\n",
    "X_test = raw_tweets_test\n",
    "\n",
    "# Tokenize + Stop Words + BoW\n",
    "CountVec = CountVectorizer(stop_words='english', max_features=config['max_features'])\n",
    "X_train_bow = CountVec.fit_transform(X_train.text)\n",
    "X_test_bow = CountVec.transform(X_test.text)\n",
    "\n",
    "# TfidfVectorizer can be used to perform this action in normal text\n",
    "CountVecTFIDF = TfidfVectorizer(stop_words='english', max_features=config['max_features'])\n",
    "X_train_tfidf = CountVecTFIDF.fit_transform(X_train.text)\n",
    "X_test_tfidf = CountVecTFIDF.transform(X_test.text)\n",
    "\n",
    "# Download or load from local\n",
    "if config['refresh_embedding']:\n",
    "    # Download Google's pre-trained Word2Vec model\n",
    "    word2vec = api.load('word2vec-google-news-300')\n",
    "    # Save the model for future reuse\n",
    "    word2vec.save_word2vec_format('../Word2Vec/word2vec_300.kv')\n",
    "else:\n",
    "    word2vec = KeyedVectors.load_word2vec_format('../Word2Vec/word2vec_300.kv')\n",
    "\n",
    "# Create embeddings by averaging the sentence\n",
    "X_train_embeddings = pd.DataFrame(X_train.text.apply(average_embedding, word_embeddings=word2vec, missing_random=False).tolist())\n",
    "X_test_embeddings = pd.DataFrame(X_test.text.apply(average_embedding, word_embeddings=word2vec, missing_random=False).tolist())"
   ]
  },
  {
   "cell_type": "code",
   "execution_count": 4,
   "metadata": {},
   "outputs": [],
   "source": [
    "# 2- Data modelling\n",
    "# Select your model\n",
    "target_model = MultinomialNB()\n",
    "\n",
    "# Train your model\n",
    "target_model.fit(X_train_embeddings, y_train)\n",
    "\n",
    "# Generate predictions\n",
    "results = target_model.predict(X_test_embeddings)\n",
    "\n",
    "# Store results\n",
    "pd.DataFrame({\"id\": raw_tweets_test.id,\n",
    "              \"target\": results}).set_index(\"id\").to_csv(\"../submission/nlp_submission.csv\")"
   ]
  },
  {
   "cell_type": "code",
   "execution_count": null,
   "metadata": {},
   "outputs": [],
   "source": []
  }
 ],
 "metadata": {
  "kernelspec": {
   "display_name": "Kaggle",
   "language": "python",
   "name": "python3"
  },
  "language_info": {
   "codemirror_mode": {
    "name": "ipython",
    "version": 3
   },
   "file_extension": ".py",
   "mimetype": "text/x-python",
   "name": "python",
   "nbconvert_exporter": "python",
   "pygments_lexer": "ipython3",
   "version": "3.8.12"
  },
  "orig_nbformat": 4
 },
 "nbformat": 4,
 "nbformat_minor": 2
}
