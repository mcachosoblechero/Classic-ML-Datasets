{
 "cells": [
  {
   "attachments": {},
   "cell_type": "markdown",
   "metadata": {},
   "source": [
    "# NLP Modelling\n",
    "\n",
    "Using the NLP features engineered in the previous notebook, explore various models to determine whether the tweets contains a disaster. "
   ]
  },
  {
   "cell_type": "code",
   "execution_count": 2,
   "metadata": {},
   "outputs": [
    {
     "name": "stderr",
     "output_type": "stream",
     "text": [
      "/Users/miguelcachosoblechero/opt/anaconda3/envs/Kaggle/lib/python3.8/site-packages/xgboost/compat.py:36: FutureWarning: pandas.Int64Index is deprecated and will be removed from pandas in a future version. Use pandas.Index with the appropriate dtype instead.\n",
      "  from pandas import MultiIndex, Int64Index\n",
      "2023-03-26 10:47:29.261428: I tensorflow/core/platform/cpu_feature_guard.cc:182] This TensorFlow binary is optimized to use available CPU instructions in performance-critical operations.\n",
      "To enable the following instructions: AVX2 FMA, in other operations, rebuild TensorFlow with the appropriate compiler flags.\n",
      "[nltk_data] Downloading package stopwords to\n",
      "[nltk_data]     /Users/miguelcachosoblechero/nltk_data...\n",
      "[nltk_data]   Package stopwords is already up-to-date!\n"
     ]
    }
   ],
   "source": [
    "import os\n",
    "import sys\n",
    "import pandas as pd\n",
    "import numpy as np\n",
    "from tqdm import tqdm\n",
    "import gensim\n",
    "import gensim.downloader as api\n",
    "from gensim.models import KeyedVectors\n",
    "\n",
    "# NLP Preprocessing\n",
    "import nltk\n",
    "from nltk.tokenize import TweetTokenizer\n",
    "from nltk.corpus import stopwords\n",
    "from nltk.stem import PorterStemmer\n",
    "\n",
    "# NLP Viz\n",
    "import matplotlib.pyplot as plt\n",
    "import seaborn as sns\n",
    "from wordcloud import WordCloud\n",
    "\n",
    "# Feature Extraction\n",
    "from sklearn.feature_extraction.text import CountVectorizer, TfidfVectorizer\n",
    "\n",
    "# Data Modelling - ML\n",
    "from sklearn.model_selection import StratifiedKFold, train_test_split\n",
    "from sklearn.metrics import confusion_matrix, accuracy_score, roc_auc_score, recall_score\n",
    "from sklearn.decomposition import PCA, TruncatedSVD\n",
    "from sklearn.manifold import TSNE\n",
    "from sklearn.dummy import DummyClassifier\n",
    "from sklearn.ensemble import RandomForestClassifier\n",
    "from sklearn.naive_bayes import MultinomialNB\n",
    "from sklearn.svm import SVC\n",
    "import xgboost\n",
    "from xgboost import XGBClassifier\n",
    "xgboost.config_context(verbosity=0) # Silect XGBoost\n",
    "\n",
    "# Deep Learning\n",
    "import tensorflow as tf\n",
    "import tensorflow_hub as hub\n",
    "import tensorflow_text as text\n",
    "from tensorflow import keras\n",
    "from keras.preprocessing.text import Tokenizer\n",
    "from tensorflow.keras.preprocessing.sequence import pad_sequences\n",
    "from keras.utils import to_categorical\n",
    "from keras.layers import Dense, Input, GlobalMaxPooling1D\n",
    "from keras.layers import Conv1D, MaxPooling1D, Embedding, LSTM\n",
    "from keras.models import Model, Sequential\n",
    "from keras.initializers import Constant\n",
    "from keras.callbacks import EarlyStopping\n",
    "\n",
    "# Monitoring progress\n",
    "from tqdm.notebook import tqdm_notebook\n",
    "tqdm_notebook.pandas()\n",
    "\n",
    "nltk.download('stopwords')\n",
    "\n",
    "config = {\n",
    "    'val_size': 0.2,\n",
    "    'CV_splits': 5,\n",
    "    'seed': 14,\n",
    "    'n_cores': 16,\n",
    "    'max_features': 2000,\n",
    "    'refresh_embedding': False,\n",
    "    'max_tweet_length': 128,\n",
    "    'embedding_dim': 300,\n",
    "    'num_epochs': 30,\n",
    "    'batch_size': 32,\n",
    "}"
   ]
  },
  {
   "attachments": {},
   "cell_type": "markdown",
   "metadata": {},
   "source": [
    "# 0. Load dataset and preprocessing"
   ]
  },
  {
   "cell_type": "code",
   "execution_count": 5,
   "metadata": {},
   "outputs": [],
   "source": [
    "# Load dataset\n",
    "input_path = \"../input\"\n",
    "raw_tweets = pd.read_csv(os.path.join(input_path, \"train.csv\")).drop(['id'], axis=1)\n",
    "\n",
    "# Use Twitter Tokenizer to tokenize tweets\n",
    "tweet_tokenizer = TweetTokenizer()\n",
    "\n",
    "# Tokenize raw tweets\n",
    "raw_tweets['twitterTokens'] = raw_tweets.apply(lambda x: tweet_tokenizer.tokenize(x.text.lower()), axis=1)\n",
    "\n",
    "# Remove stop words\n",
    "english_stopwords = set(stopwords.words('english'))\n",
    "raw_tweets['twitterTokens_noStop'] = raw_tweets.twitterTokens.apply(lambda x: [i for i in x if i not in english_stopwords])\n",
    "\n",
    "# Perform stemming\n",
    "ps = PorterStemmer()\n",
    "raw_tweets['twitterTokens_Stem'] = raw_tweets.twitterTokens_noStop.apply(lambda x: [ps.stem(i) for i in x])"
   ]
  },
  {
   "cell_type": "code",
   "execution_count": 6,
   "metadata": {},
   "outputs": [],
   "source": [
    "# Divide between features and labels\n",
    "X = raw_tweets.drop(['target'], axis=1)\n",
    "y = raw_tweets.target.values"
   ]
  },
  {
   "cell_type": "code",
   "execution_count": 4,
   "metadata": {},
   "outputs": [],
   "source": [
    "# CountVectorizer can be used to perform this action in normal text\n",
    "CountVec = CountVectorizer(stop_words='english', max_features=config['max_features'])\n",
    "X_bow = CountVec.fit_transform(X.text)\n",
    "\n",
    "# TfidfVectorizer can be used to perform this action in normal text\n",
    "CountVecTFIDF = TfidfVectorizer(stop_words='english', max_features=config['max_features'])\n",
    "X_tfidf = CountVecTFIDF.fit_transform(X.text)"
   ]
  },
  {
   "cell_type": "code",
   "execution_count": 5,
   "metadata": {},
   "outputs": [],
   "source": [
    "# Generate Embeddings using Keras Interface\n",
    "# Note this is different from what I did in Data Exploration\n",
    "\n",
    "# Tokenize using Keras interface\n",
    "keras_CountVect = Tokenizer()\n",
    "keras_CountVect.fit_on_texts(X.text) \n",
    "X_keras_tokens = keras_CountVect.texts_to_sequences(X.text)\n",
    "word_index = keras_CountVect.word_index # <- This is effectively a dictionary with all the required words, used later in the Embeddings\n",
    "num_words = len(word_index)+1\n",
    "\n",
    "# Pad the sequences\n",
    "X_padded = pad_sequences(X_keras_tokens, maxlen=config['max_tweet_length'])\n",
    "# Convert y to categorical\n",
    "y_cat = to_categorical(y)\n",
    "\n",
    "# Divide between train and validation, by shuffling the indices\n",
    "indices = np.arange(X_padded.shape[0])\n",
    "np.random.shuffle(indices)\n",
    "X_padded = X_padded[indices]\n",
    "y_cat = y_cat[indices]\n",
    "num_validation_samples = int(config['val_size'] * X_padded.shape[0])\n",
    "X_train_padded = X_padded[:num_validation_samples]\n",
    "y_train_cat = y_cat[:num_validation_samples]\n",
    "X_val_padded = X_padded[-num_validation_samples:]\n",
    "y_val_cat = y_cat[-num_validation_samples:]\n",
    "\n",
    "# Now we are ready to load the associated Embeddings\n",
    "# Download or load from local\n",
    "if config['refresh_embedding']:\n",
    "    # Download Google's pre-trained Word2Vec model\n",
    "    word2vec = api.load('word2vec-google-news-300')\n",
    "    # Save the model for future reuse\n",
    "    word2vec.save_word2vec_format('../Word2Vec/word2vec_300.kv')\n",
    "else:\n",
    "    word2vec = KeyedVectors.load_word2vec_format('../Word2Vec/word2vec_300.kv')\n",
    "\n",
    "\n",
    "# Create embeddings by averaging the sentence\n",
    "# embeddings = X.twitterTokens_noStop.apply(average_embedding, word_embeddings=word2vec, missing_random=False)\n",
    "# X_embeddings = pd.DataFrame(embeddings.tolist())"
   ]
  },
  {
   "cell_type": "code",
   "execution_count": 6,
   "metadata": {},
   "outputs": [],
   "source": [
    "# Associate each index with its embedding\n",
    "# Create an embedding matrix as big as the words available\n",
    "embedding_matrix = np.zeros((num_words, config['embedding_dim']))\n",
    "# For each word in the dictionary, populate the embedding matrix\n",
    "for word, idx in word_index.items():\n",
    "    # If word is in embedding, store\n",
    "    if word in word2vec:\n",
    "        # Store the new embedding vector in the associated position\n",
    "        # Otherwise, leave blank as zero\n",
    "        embedding_matrix[idx] = word2vec[word]"
   ]
  },
  {
   "cell_type": "code",
   "execution_count": null,
   "metadata": {},
   "outputs": [],
   "source": [
    "# Convert words into \"BERT_interpretable\" embeddings\n"
   ]
  },
  {
   "attachments": {},
   "cell_type": "markdown",
   "metadata": {},
   "source": [
    "# 1. Data Modeling\n",
    "\n",
    "This section explores different architectures for text classification, ranging from Classic ML to RNN and CNN1D."
   ]
  },
  {
   "attachments": {},
   "cell_type": "markdown",
   "metadata": {},
   "source": [
    "## Classic ML"
   ]
  },
  {
   "cell_type": "code",
   "execution_count": 37,
   "metadata": {},
   "outputs": [],
   "source": [
    "def run_model_and_evaluate(model, X_train, y_train):\n",
    "    \n",
    "    # Instanciate a Cross-Validation model\n",
    "    cv = StratifiedKFold(n_splits=config['CV_splits'])\n",
    "\n",
    "    # Create empty results\n",
    "    conf_matrix = np.zeros((2,2))\n",
    "    accuracy = []\n",
    "    recall = []\n",
    "    auc = []\n",
    "\n",
    "    # For every split    \n",
    "    for idx_train, idx_test in tqdm(cv.split(X_train, y_train)):\n",
    "    \n",
    "        # Obtain the split indeces\n",
    "        X_cv, y_cv = X_train[idx_train], y_train[idx_train]\n",
    "\n",
    "        # Train the models \n",
    "        model.fit(X_cv, y_cv)\n",
    "\n",
    "        # Obtain prediction dataset\n",
    "        X_cv, y_cv = X_train[idx_test], y_train[idx_test]\n",
    "\n",
    "        # Predict both models\n",
    "        model_pred = model.predict(X_cv)\n",
    "\n",
    "        # Store Confusion Matrix + Accuracy Score + Recall Score + AUC\n",
    "        conf_matrix += confusion_matrix(y_cv, model_pred)\n",
    "        accuracy.append(accuracy_score(y_cv, model_pred))\n",
    "        recall.append(recall_score(y_cv, model_pred))\n",
    "        auc.append(roc_auc_score(y_cv, model_pred))\n",
    "\n",
    "    return conf_matrix, accuracy, recall, auc"
   ]
  },
  {
   "cell_type": "code",
   "execution_count": 38,
   "metadata": {},
   "outputs": [
    {
     "name": "stdout",
     "output_type": "stream",
     "text": [
      "-> Training Dummy\n"
     ]
    },
    {
     "name": "stderr",
     "output_type": "stream",
     "text": [
      "3it [00:00, 166.82it/s]\n"
     ]
    },
    {
     "name": "stdout",
     "output_type": "stream",
     "text": [
      "-> Training SVC\n"
     ]
    },
    {
     "name": "stderr",
     "output_type": "stream",
     "text": [
      "3it [00:07,  2.51s/it]\n"
     ]
    },
    {
     "name": "stdout",
     "output_type": "stream",
     "text": [
      "-> Training Multinomial NB\n"
     ]
    },
    {
     "name": "stderr",
     "output_type": "stream",
     "text": [
      "3it [00:00, 127.80it/s]\n"
     ]
    },
    {
     "name": "stdout",
     "output_type": "stream",
     "text": [
      "-> Training Random Forest\n"
     ]
    },
    {
     "name": "stderr",
     "output_type": "stream",
     "text": [
      "3it [00:00,  9.85it/s]\n"
     ]
    },
    {
     "name": "stdout",
     "output_type": "stream",
     "text": [
      "-> Training XGBoost\n"
     ]
    },
    {
     "name": "stderr",
     "output_type": "stream",
     "text": [
      "0it [00:00, ?it/s]/Users/miguelcachosoblechero/opt/anaconda3/envs/Kaggle/lib/python3.8/site-packages/xgboost/sklearn.py:1224: UserWarning: The use of label encoder in XGBClassifier is deprecated and will be removed in a future release. To remove this warning, do the following: 1) Pass option use_label_encoder=False when constructing XGBClassifier object; and 2) Encode your labels (y) as integers starting with 0, i.e. 0, 1, 2, ..., [num_class - 1].\n",
      "  warnings.warn(label_encoder_deprecation_msg, UserWarning)\n"
     ]
    },
    {
     "name": "stdout",
     "output_type": "stream",
     "text": [
      "[22:22:01] WARNING: /var/folders/sy/f16zz6x50xz3113nwtb9bvq00000gp/T/abs_44tbtwf8c1/croots/recipe/xgboost-split_1659548960882/work/src/learner.cc:1115: Starting in XGBoost 1.3.0, the default evaluation metric used with the objective 'binary:logistic' was changed from 'error' to 'logloss'. Explicitly set eval_metric if you'd like to restore the old behavior.\n"
     ]
    },
    {
     "name": "stderr",
     "output_type": "stream",
     "text": [
      "1it [00:00,  3.94it/s]/Users/miguelcachosoblechero/opt/anaconda3/envs/Kaggle/lib/python3.8/site-packages/xgboost/sklearn.py:1224: UserWarning: The use of label encoder in XGBClassifier is deprecated and will be removed in a future release. To remove this warning, do the following: 1) Pass option use_label_encoder=False when constructing XGBClassifier object; and 2) Encode your labels (y) as integers starting with 0, i.e. 0, 1, 2, ..., [num_class - 1].\n",
      "  warnings.warn(label_encoder_deprecation_msg, UserWarning)\n"
     ]
    },
    {
     "name": "stdout",
     "output_type": "stream",
     "text": [
      "[22:22:02] WARNING: /var/folders/sy/f16zz6x50xz3113nwtb9bvq00000gp/T/abs_44tbtwf8c1/croots/recipe/xgboost-split_1659548960882/work/src/learner.cc:1115: Starting in XGBoost 1.3.0, the default evaluation metric used with the objective 'binary:logistic' was changed from 'error' to 'logloss'. Explicitly set eval_metric if you'd like to restore the old behavior.\n"
     ]
    },
    {
     "name": "stderr",
     "output_type": "stream",
     "text": [
      "2it [00:00,  4.25it/s]/Users/miguelcachosoblechero/opt/anaconda3/envs/Kaggle/lib/python3.8/site-packages/xgboost/sklearn.py:1224: UserWarning: The use of label encoder in XGBClassifier is deprecated and will be removed in a future release. To remove this warning, do the following: 1) Pass option use_label_encoder=False when constructing XGBClassifier object; and 2) Encode your labels (y) as integers starting with 0, i.e. 0, 1, 2, ..., [num_class - 1].\n",
      "  warnings.warn(label_encoder_deprecation_msg, UserWarning)\n"
     ]
    },
    {
     "name": "stdout",
     "output_type": "stream",
     "text": [
      "[22:22:02] WARNING: /var/folders/sy/f16zz6x50xz3113nwtb9bvq00000gp/T/abs_44tbtwf8c1/croots/recipe/xgboost-split_1659548960882/work/src/learner.cc:1115: Starting in XGBoost 1.3.0, the default evaluation metric used with the objective 'binary:logistic' was changed from 'error' to 'logloss'. Explicitly set eval_metric if you'd like to restore the old behavior.\n"
     ]
    },
    {
     "name": "stderr",
     "output_type": "stream",
     "text": [
      "3it [00:00,  3.98it/s]\n"
     ]
    }
   ],
   "source": [
    "# Define the target models\n",
    "dummy_model = DummyClassifier()\n",
    "svc_model = SVC(kernel='rbf')\n",
    "naive_model = MultinomialNB()\n",
    "rf_model = RandomForestClassifier(n_estimators=20, max_depth=50, random_state=config['seed'], n_jobs = config['n_cores'])\n",
    "xg_model = XGBClassifier(n_estimators=20, max_depth=50, random_state=config['seed'], n_jobs = config['n_cores'])\n",
    "\n",
    "# Train all models\n",
    "print(f\"-> Training Dummy\")\n",
    "dummy_conf_matrix, dummy_acc, dummy_recall, dummy_auc = run_model_and_evaluate(dummy_model, X_bow, y)\n",
    "print(f\"-> Training SVC\")\n",
    "svc_conf_matrix, svc_acc, svc_recall, svc_auc = run_model_and_evaluate(svc_model, X_bow, y)\n",
    "print(f\"-> Training Multinomial NB\")\n",
    "naive_conf_matrix, naive_acc, naive_recall, naive_auc = run_model_and_evaluate(naive_model, X_bow, y)\n",
    "print(f\"-> Training Random Forest\")\n",
    "rf_conf_matrix, rf_acc, rf_recall, rf_auc = run_model_and_evaluate(rf_model, X_bow, y)\n",
    "print(f\"-> Training XGBoost\")\n",
    "xg_conf_matrix, xg_acc, xg_recall, xg_auc = run_model_and_evaluate(xg_model, X_bow, y)"
   ]
  },
  {
   "attachments": {},
   "cell_type": "markdown",
   "metadata": {},
   "source": [
    "## Deep Learning\n",
    "\n",
    "In this section, we explore the different Deep Learning architectures available for NLP - from LSTM, CNN1D to Transformers"
   ]
  },
  {
   "cell_type": "code",
   "execution_count": 38,
   "metadata": {},
   "outputs": [
    {
     "name": "stdout",
     "output_type": "stream",
     "text": [
      "Epoch 1/30\n",
      "48/48 [==============================] - 15s 229ms/step - loss: 0.5665 - accuracy: 0.7116 - recall: 0.5142 - auc: 0.7594 - val_loss: 0.4748 - val_accuracy: 0.7786 - val_recall: 0.7121 - val_auc: 0.8459\n",
      "Epoch 2/30\n",
      "48/48 [==============================] - 11s 239ms/step - loss: 0.4471 - accuracy: 0.7996 - recall: 0.6835 - auc: 0.8598 - val_loss: 0.4563 - val_accuracy: 0.7898 - val_recall: 0.6432 - val_auc: 0.8521\n",
      "Epoch 3/30\n",
      "48/48 [==============================] - 11s 239ms/step - loss: 0.4005 - accuracy: 0.8259 - recall: 0.7057 - auc: 0.8853 - val_loss: 0.4753 - val_accuracy: 0.7898 - val_recall: 0.5952 - val_auc: 0.8526\n",
      "Epoch 4/30\n",
      "48/48 [==============================] - 12s 244ms/step - loss: 0.3796 - accuracy: 0.8417 - recall: 0.7215 - auc: 0.8972 - val_loss: 0.4787 - val_accuracy: 0.7786 - val_recall: 0.7301 - val_auc: 0.8509\n",
      "Epoch 5/30\n",
      "48/48 [==============================] - 11s 233ms/step - loss: 0.3605 - accuracy: 0.8449 - recall: 0.7405 - auc: 0.9087 - val_loss: 0.4826 - val_accuracy: 0.7806 - val_recall: 0.7376 - val_auc: 0.8529\n"
     ]
    },
    {
     "data": {
      "text/plain": [
       "<keras.callbacks.History at 0x7fc08125fc70>"
      ]
     },
     "execution_count": 38,
     "metadata": {},
     "output_type": "execute_result"
    }
   ],
   "source": [
    "# Define the embeddings to use in this training\n",
    "embedding_layer = Embedding(num_words,\n",
    "                            config['embedding_dim'],\n",
    "                            embeddings_initializer=Constant(embedding_matrix),\n",
    "                            input_length=config['max_tweet_length'],\n",
    "                            trainable=False)\n",
    "\n",
    "# Define LSTM with non-trainable embeddings\n",
    "LSTM1_model = Sequential()\n",
    "LSTM1_model.add(embedding_layer)\n",
    "LSTM1_model.add(LSTM(128, dropout=0.2, recurrent_dropout=0.2))\n",
    "LSTM1_model.add(Dense(1, activation='sigmoid'))\n",
    "LSTM1_model.compile(loss='binary_crossentropy',\n",
    "                    optimizer='adam',\n",
    "                    metrics=['accuracy', 'Recall', 'AUC'])\n",
    "\n",
    "LSTM1_model.fit(X_train_padded, y_train_cat,\n",
    "        batch_size=32,\n",
    "        epochs=config['num_epochs'],\n",
    "        validation_data=(X_val_padded, y_val_cat),\n",
    "        callbacks=[EarlyStopping(monitor=\"val_accuracy\", patience=3)]\n",
    "        )"
   ]
  },
  {
   "cell_type": "code",
   "execution_count": 39,
   "metadata": {},
   "outputs": [
    {
     "name": "stdout",
     "output_type": "stream",
     "text": [
      "Epoch 1/30\n",
      "48/48 [==============================] - 18s 301ms/step - loss: 0.5650 - accuracy: 0.7037 - recall: 0.4842 - auc: 0.7650 - val_loss: 0.4707 - val_accuracy: 0.7779 - val_recall: 0.7316 - val_auc: 0.8496\n",
      "Epoch 2/30\n",
      "48/48 [==============================] - 13s 278ms/step - loss: 0.3340 - accuracy: 0.8647 - recall: 0.7864 - auc: 0.9255 - val_loss: 0.4921 - val_accuracy: 0.7733 - val_recall: 0.7061 - val_auc: 0.8336\n",
      "Epoch 3/30\n",
      "48/48 [==============================] - 14s 284ms/step - loss: 0.1649 - accuracy: 0.9428 - recall: 0.9019 - auc: 0.9810 - val_loss: 0.5952 - val_accuracy: 0.7878 - val_recall: 0.6642 - val_auc: 0.8452\n",
      "Epoch 4/30\n",
      "48/48 [==============================] - 14s 287ms/step - loss: 0.0904 - accuracy: 0.9750 - recall: 0.9589 - auc: 0.9922 - val_loss: 0.8260 - val_accuracy: 0.6951 - val_recall: 0.8111 - val_auc: 0.8058\n",
      "Epoch 5/30\n",
      "48/48 [==============================] - 14s 286ms/step - loss: 0.0695 - accuracy: 0.9796 - recall: 0.9699 - auc: 0.9965 - val_loss: 0.7729 - val_accuracy: 0.7812 - val_recall: 0.6957 - val_auc: 0.8368\n",
      "Epoch 6/30\n",
      "48/48 [==============================] - 13s 273ms/step - loss: 0.0434 - accuracy: 0.9908 - recall: 0.9842 - auc: 0.9974 - val_loss: 0.7056 - val_accuracy: 0.7806 - val_recall: 0.6762 - val_auc: 0.8264\n"
     ]
    },
    {
     "data": {
      "text/plain": [
       "<keras.callbacks.History at 0x7fc0719b1040>"
      ]
     },
     "execution_count": 39,
     "metadata": {},
     "output_type": "execute_result"
    }
   ],
   "source": [
    "# Define the embeddings to use in this training - This time, trainable\n",
    "embedding_layer = Embedding(num_words,\n",
    "                            config['embedding_dim'],\n",
    "                            embeddings_initializer=Constant(embedding_matrix),\n",
    "                            input_length=config['max_tweet_length'],\n",
    "                            trainable=True)\n",
    "\n",
    "# Define LSTM with non-trainable embeddings\n",
    "LSTM2_model = Sequential()\n",
    "LSTM2_model.add(embedding_layer)\n",
    "LSTM2_model.add(LSTM(128, dropout=0.2, recurrent_dropout=0.2))\n",
    "LSTM2_model.add(Dense(1, activation='sigmoid'))\n",
    "LSTM2_model.compile(loss='binary_crossentropy',\n",
    "                    optimizer='adam',\n",
    "                    metrics=['accuracy', 'Recall', 'AUC'])\n",
    "\n",
    "LSTM2_model.fit(X_train_padded, y_train_cat,\n",
    "        batch_size=32,\n",
    "        epochs=config['num_epochs'],\n",
    "        validation_data=(X_val_padded, y_val_cat),\n",
    "        callbacks=[EarlyStopping(monitor=\"val_accuracy\", patience=3)]\n",
    "        )"
   ]
  },
  {
   "attachments": {},
   "cell_type": "markdown",
   "metadata": {},
   "source": [
    "## Pretrained BERT"
   ]
  },
  {
   "cell_type": "code",
   "execution_count": null,
   "metadata": {},
   "outputs": [],
   "source": [
    "# Get inputs ready\n",
    "X = raw_tweets.text.values\n",
    "y = raw_tweets.target.values\n",
    "X_train, X_val, y_train, y_val = train_test_split(X, y, test_size=config['val_size'], random_state=config['seed'])\n",
    "\n",
    "# Load the pre-trained BERT model\n",
    "bert_model_name = \"bert_en_uncased_L-12_H-768_A-12\" # pre-trained BERT model name\n",
    "bert_model_url = f\"https://tfhub.dev/tensorflow/{bert_model_name}/4\" # pre-trained BERT model URL\n",
    "bert_model = hub.KerasLayer(bert_model_url, trainable=True)\n",
    "\n",
    "# Load preprocessing steps\n",
    "bert_handle_preprocess = 'https://tfhub.dev/tensorflow/bert_en_uncased_preprocess/3'\n",
    "bert_preprocess_model = hub.KerasLayer(bert_handle_preprocess)\n",
    "\n",
    "# Create additional layers\n",
    "input_layer = tf.keras.layers.Input(shape=(), dtype=tf.string, name='tweets')\n",
    "dense_layer = tf.keras.layers.Dense(1, activation='sigmoid', name='classifier')\n",
    "dropout_layer = tf.keras.layers.Dropout(0.1) # from tensorflow official tutorial\n",
    "\n",
    "# Build layers \n",
    "bert_preprocess_out = bert_preprocess_model(input_layer)\n",
    "bert_encoder_out = bert_model(bert_preprocess_out)\n",
    "bert_encoder_out = bert_encoder_out['pooled_output']\n",
    "bert_encoder_out = dropout_layer(bert_encoder_out) #Optional, to eliminate overfitting\n",
    "classification_out = dense_layer(bert_encoder_out)\n",
    "bert_model._name = \"bert_encoder\"\n",
    "\n",
    "# Build model\n",
    "tweets_classification_model = tf.keras.Model(input_layer, classification_out)\n",
    "tweets_classification_model.get_layer('bert_encoder').trainable = True # Very important\n",
    "\n",
    "# Compile model \n",
    "tweets_classification_model.compile(loss='binary_crossentropy',\n",
    "                    optimizer='adam',\n",
    "                    metrics=['accuracy', 'Recall', 'AUC'])\n",
    "# Train model\n",
    "tweets_classification_model.fit(X_train, y_train,\n",
    "        batch_size=32,\n",
    "        epochs=config['num_epochs'],\n",
    "        validation_data=(X_val, y_val),\n",
    "        callbacks=[EarlyStopping(monitor=\"val_accuracy\", patience=3)]\n",
    "        )\n"
   ]
  },
  {
   "attachments": {},
   "cell_type": "markdown",
   "metadata": {},
   "source": [
    "## Comparison"
   ]
  },
  {
   "cell_type": "code",
   "execution_count": 39,
   "metadata": {},
   "outputs": [],
   "source": [
    "def plot_confusion_matrix(conf_matrix, title):\n",
    "    \n",
    "    plt.figure(figsize=(9,8))\n",
    "    sns.heatmap(conf_matrix, annot=True, cmap=\"Blues\", fmt=\"g\")\n",
    "    plt.xlabel('Predicted'); \n",
    "    plt.ylabel('Actual'); \n",
    "    plt.title(title)\n",
    "    plt.show()"
   ]
  },
  {
   "cell_type": "code",
   "execution_count": 40,
   "metadata": {},
   "outputs": [
    {
     "data": {
      "image/png": "[encoded data removed]",
      "text/plain": [
       "<Figure size 900x800 with 2 Axes>"
      ]
     },
     "metadata": {},
     "output_type": "display_data"
    },
    {
     "data": {
      "image/png": "[encoded data removed]",
      "text/plain": [
       "<Figure size 900x800 with 2 Axes>"
      ]
     },
     "metadata": {},
     "output_type": "display_data"
    },
    {
     "data": {
      "image/png": "[encoded data removed]",
      "text/plain": [
       "<Figure size 900x800 with 2 Axes>"
      ]
     },
     "metadata": {},
     "output_type": "display_data"
    },
    {
     "data": {
      "image/png": "[encoded data removed]",
      "text/plain": [
       "<Figure size 900x800 with 2 Axes>"
      ]
     },
     "metadata": {},
     "output_type": "display_data"
    },
    {
     "name": "stdout",
     "output_type": "stream",
     "text": [
      "--------------\n",
      "Accuracy Results\n",
      "--------------\n",
      "Null Hypothesis -> 0.5703402099673454\n",
      "SVC             -> 0.7229783548116197\n",
      "Naïve Bayes     -> 0.713650890384174\n",
      "Random Forest   -> 0.6557249010934466\n",
      "XGBoost         -> 0.6700441037654533\n",
      "--------------\n",
      "\n",
      "--------------\n",
      "Recall Results\n",
      "--------------\n",
      "Null Hypothesis -> [0.0, 0.0, 0.0]\n",
      "SVC             -> 0.5071950935791029\n",
      "Naïve Bayes     -> 0.6652539403571619\n",
      "Random Forest   -> 0.3051166480265279\n",
      "XGBoost         -> 0.4368738384951101\n",
      "--------------\n",
      "\n",
      "--------------\n",
      "AUC Results\n",
      "--------------\n",
      "Null Hypothesis -> 0.5\n",
      "SVC             -> 0.696368660836395\n",
      "Naïve Bayes     -> 0.7076868673940048\n",
      "Random Forest   -> 0.6124868482604203\n",
      "XGBoost         -> 0.6412920103040497\n",
      "--------------\n"
     ]
    }
   ],
   "source": [
    "# Analyse the results\n",
    "# Accuracy\n",
    "dummy_accuracy_av = sum(dummy_acc)/len(dummy_acc)\n",
    "svc_accuracy_av = sum(svc_acc)/len(svc_acc)\n",
    "rf_accuracy_av = sum(rf_acc)/len(rf_acc)\n",
    "naive_accuracy_av = sum(naive_acc)/len(naive_acc)\n",
    "xg_accuracy_av = sum(xg_acc)/len(xg_acc)\n",
    "# Recall\n",
    "dummy_recall_av = sum(dummy_recall)/len(dummy_recall)\n",
    "svc_recall_av = sum(svc_recall)/len(svc_recall)\n",
    "rf_recall_av = sum(rf_recall)/len(rf_recall)\n",
    "naive_recall_av = sum(naive_recall)/len(naive_recall)\n",
    "xg_recall_av = sum(xg_recall)/len(xg_recall)\n",
    "# AUC \n",
    "dummy_auc_av = sum(dummy_auc)/len(dummy_auc)\n",
    "svc_auc_av = sum(svc_auc)/len(svc_auc)\n",
    "rf_auc_av = sum(rf_auc)/len(rf_auc)\n",
    "naive_auc_av = sum(naive_auc)/len(naive_auc)\n",
    "xg_auc_av = sum(xg_auc)/len(xg_auc)\n",
    "\n",
    "# Display results\n",
    "# Confusion Matrix\n",
    "plot_confusion_matrix(svc_conf_matrix, \"SVC Confusion Matrix\")\n",
    "plot_confusion_matrix(naive_conf_matrix, \"Naïve Bayes Confusion Matrix\")\n",
    "plot_confusion_matrix(rf_conf_matrix, \"Random Forest Confusion Matrix\")\n",
    "plot_confusion_matrix(xg_conf_matrix, \"XGBoost Confusion Matrix\")\n",
    "\n",
    "print(\"--------------\")\n",
    "print(\"Accuracy Results\")\n",
    "print(\"--------------\")\n",
    "print(\"Null Hypothesis -> \" + str(dummy_accuracy_av))\n",
    "print(\"SVC             -> \" + str(svc_accuracy_av))\n",
    "print(\"Naïve Bayes     -> \" + str(naive_accuracy_av))\n",
    "print(\"Random Forest   -> \" + str(rf_accuracy_av))\n",
    "print(\"XGBoost         -> \" + str(xg_accuracy_av))\n",
    "print(\"--------------\")\n",
    "print(\"\")\n",
    "print(\"--------------\")\n",
    "print(\"Recall Results\")\n",
    "print(\"--------------\")\n",
    "print(\"Null Hypothesis -> \" + str(dummy_recall))\n",
    "print(\"SVC             -> \" + str(svc_recall_av))\n",
    "print(\"Naïve Bayes     -> \" + str(naive_recall_av))\n",
    "print(\"Random Forest   -> \" + str(rf_recall_av))\n",
    "print(\"XGBoost         -> \" + str(xg_recall_av))\n",
    "print(\"--------------\")\n",
    "print(\"\")\n",
    "print(\"--------------\")\n",
    "print(\"AUC Results\")\n",
    "print(\"--------------\")\n",
    "print(\"Null Hypothesis -> \" + str(dummy_auc_av))\n",
    "print(\"SVC             -> \" + str(svc_auc_av))\n",
    "print(\"Naïve Bayes     -> \" + str(naive_auc_av))\n",
    "print(\"Random Forest   -> \" + str(rf_auc_av))\n",
    "print(\"XGBoost         -> \" + str(xg_auc_av))\n",
    "print(\"--------------\")"
   ]
  },
  {
   "cell_type": "code",
   "execution_count": null,
   "metadata": {},
   "outputs": [],
   "source": []
  }
 ],
 "metadata": {
  "kernelspec": {
   "display_name": "Kaggle",
   "language": "python",
   "name": "python3"
  },
  "language_info": {
   "codemirror_mode": {
    "name": "ipython",
    "version": 3
   },
   "file_extension": ".py",
   "mimetype": "text/x-python",
   "name": "python",
   "nbconvert_exporter": "python",
   "pygments_lexer": "ipython3",
   "version": "3.8.12"
  },
  "orig_nbformat": 4
 },
 "nbformat": 4,
 "nbformat_minor": 2
}
